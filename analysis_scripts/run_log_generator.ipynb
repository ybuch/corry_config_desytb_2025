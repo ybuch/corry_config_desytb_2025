{
 "cells": [
  {
   "cell_type": "code",
   "execution_count": null,
   "id": "f20cc8cc",
   "metadata": {},
   "outputs": [],
   "source": [
    "import re\n",
    "import pandas as pd\n",
    "import numpy as np\n"
   ]
  },
  {
   "cell_type": "code",
   "execution_count": null,
   "id": "7ff03459",
   "metadata": {},
   "outputs": [],
   "source": [
    "# https://elog.belle2.org/elog/VTX+Upgrade+Testbeam+2025/\n",
    "file = 'elog_text.csv'\n",
    "df = pd.read_csv(file, sep=';',encoding='utf-8',encoding_errors='ignore')\n",
    "\n",
    "\n",
    "# Create columns if they don't exist\n",
    "if 'Run_Number' not in df.columns:\n",
    "    df['Run_Number'] = np.nan\n",
    "if 'Energy' not in df.columns:\n",
    "    df['Energy'] = np.nan\n",
    "if 'FrontEnd' not in df.columns:\n",
    "    df['FrontEnd'] = None\n",
    "if 'Bias' not in df.columns:\n",
    "    df['Bias'] = np.nan\n",
    "if 'NTC' not in df.columns:\n",
    "    df['NTC'] = np.nan"
   ]
  },
  {
   "cell_type": "code",
   "execution_count": null,
   "id": "6adcc97b",
   "metadata": {},
   "outputs": [],
   "source": [
    "rows_to_drop = []\n",
    "\n",
    "regex = re.compile(r'''\n",
    "        automatic\\ log\\ for\\ run\\ (?P<run_number>\\d+).*?      # Run number\n",
    "        Energy:.*?(?P<energy>\\d+\\.?\\d*).*?                    # Energy (float)\n",
    "        FrontEnd:\\s*(?P<frontend>\\w+).*?                      # FrontEnd (word)\n",
    "        Bias:.*?(?P<bias>\\d+\\.?\\d*).*?                        # Bias (float)\n",
    "        NTC:.*?(?P<ntc>\\d+\\.?\\d*)C                            # NTC (float, ends with C)\n",
    "    ''', re.VERBOSE)\n",
    "\n",
    "for index, row in df.iterrows():\n",
    "    comment = str(row['Text']).replace(\"\\n\",\"\").rstrip()  # Access the \"Text\" column\n",
    "    try:\n",
    "        match = regex.search(comment)\n",
    "        if row['Type'] != 'Run':\n",
    "            rows_to_drop.append(index)\n",
    "            continue\n",
    "        if match:\n",
    "            run_number = int(match.group('run_number'))\n",
    "            energy = float(match.group('energy'))\n",
    "            frontend = match.group('frontend')\n",
    "            bias = float(match.group('bias'))\n",
    "            ntc = float(match.group('ntc'))\n",
    "            \n",
    "            # Add extracted values to the dataframe\n",
    "            df.loc[index, 'Run_Number'] = run_number\n",
    "            df.loc[index, 'Energy'] = energy\n",
    "            df.loc[index, 'FrontEnd'] = frontend\n",
    "            df.loc[index, 'Bias'] = bias\n",
    "            df.loc[index, 'NTC'] = ntc\n",
    "        else:\n",
    "            rows_to_drop.append(index)\n",
    "    except Exception as e:\n",
    "        print(f\"Error processing row {index}: {e}\")\n",
    "        rows_to_drop.append(index)\n",
    "\n",
    "# Drop rows where no match was found\n",
    "df.drop(index=rows_to_drop, inplace=True) # Drop rows with no match, which correspond to no run\n",
    "df.drop(columns=['Text'], inplace=True) # Drop the \"Text\" column for clarity\n",
    "\n",
    "df\n",
    "df.to_csv('run_log2.csv', index=False) # Save the cleaned data to a CSV file"
   ]
  }
 ],
 "metadata": {
  "kernelspec": {
   "display_name": "vtx_upgrade",
   "language": "python",
   "name": "python3"
  },
  "language_info": {
   "codemirror_mode": {
    "name": "ipython",
    "version": 3
   },
   "file_extension": ".py",
   "mimetype": "text/x-python",
   "name": "python",
   "nbconvert_exporter": "python",
   "pygments_lexer": "ipython3",
   "version": "3.11.9"
  }
 },
 "nbformat": 4,
 "nbformat_minor": 5
}
